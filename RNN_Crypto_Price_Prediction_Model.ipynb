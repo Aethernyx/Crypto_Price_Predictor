{
  "nbformat": 4,
  "nbformat_minor": 0,
  "metadata": {
    "colab": {
      "name": "RNN_Crypto_Price_Prediction_Model.ipynb",
      "provenance": [],
      "collapsed_sections": []
    },
    "kernelspec": {
      "name": "python3",
      "display_name": "Python 3"
    },
    "accelerator": "GPU"
  },
  "cells": [
    {
      "cell_type": "code",
      "metadata": {
        "id": "b1EQOLPg8CGw",
        "colab_type": "code",
        "colab": {}
      },
      "source": [
        "import pandas as pd\n",
        "import numpy as np\n",
        "import matplotlib.pyplot as plt\n",
        "import seaborn as sns\n",
        "import pickle\n",
        "import os\n",
        "\n",
        "import tensorflow as tf\n",
        "from tensorflow.keras.models import Sequential\n",
        "from tensorflow.keras.layers import Dense, LSTM, Dropout, BatchNormalization\n",
        "from tensorflow.keras.callbacks import TensorBoard, ModelCheckpoint, EarlyStopping"
      ],
      "execution_count": null,
      "outputs": []
    },
    {
      "cell_type": "markdown",
      "metadata": {
        "id": "-_IH85ZF-Tn_",
        "colab_type": "text"
      },
      "source": [
        "# Loading Data"
      ]
    },
    {
      "cell_type": "code",
      "metadata": {
        "id": "uleswBCC9DTj",
        "colab_type": "code",
        "colab": {
          "base_uri": "https://localhost:8080/",
          "height": 122
        },
        "outputId": "94a5a448-246f-416f-c22c-fbbcf880e14f"
      },
      "source": [
        "from google.colab import drive\n",
        "drive.mount('/content/drive')"
      ],
      "execution_count": null,
      "outputs": [
        {
          "output_type": "stream",
          "text": [
            "Go to this URL in a browser: https://accounts.google.com/o/oauth2/auth?client_id=947318989803-6bn6qk8qdgf4n4g3pfee6491hc0brc4i.apps.googleusercontent.com&redirect_uri=urn%3aietf%3awg%3aoauth%3a2.0%3aoob&scope=email%20https%3a%2f%2fwww.googleapis.com%2fauth%2fdocs.test%20https%3a%2f%2fwww.googleapis.com%2fauth%2fdrive%20https%3a%2f%2fwww.googleapis.com%2fauth%2fdrive.photos.readonly%20https%3a%2f%2fwww.googleapis.com%2fauth%2fpeopleapi.readonly&response_type=code\n",
            "\n",
            "Enter your authorization code:\n",
            "··········\n",
            "Mounted at /content/drive\n"
          ],
          "name": "stdout"
        }
      ]
    },
    {
      "cell_type": "code",
      "metadata": {
        "id": "paE3fhSo9qKh",
        "colab_type": "code",
        "colab": {}
      },
      "source": [
        "abs_path = '/content/drive/My Drive/Google_Colab/Crypto_Price_Predictor'\n",
        "\n",
        "os.chdir(abs_path)\n",
        "\n",
        "X_train = pickle.load(open('X_train.pickle', 'rb'))\n",
        "X_test = pickle.load(open('X_test.pickle', 'rb'))\n",
        "y_train = pickle.load(open('y_train.pickle', 'rb'))\n",
        "y_test = pickle.load(open('y_test.pickle', 'rb'))"
      ],
      "execution_count": null,
      "outputs": []
    },
    {
      "cell_type": "code",
      "metadata": {
        "id": "V8pZP6xSLbXg",
        "colab_type": "code",
        "colab": {}
      },
      "source": [
        "y_train = np.array(y_train)\n",
        "y_test = np.array(y_test)"
      ],
      "execution_count": null,
      "outputs": []
    },
    {
      "cell_type": "code",
      "metadata": {
        "id": "74mK1Ao-AsX8",
        "colab_type": "code",
        "colab": {}
      },
      "source": [
        "SEQ_LEN = 60\n",
        "FUTURE_PRED_PERIOD = 7\n",
        "COIN_TO_PREDICT = 'ADA'\n",
        "EPOCHS = 10\n",
        "BATCH_SIZE = 64\n",
        "NAME = f'{COIN_TO_PREDICT}-PRED_{SEQ_LEN}-SEQ_{FUTURE_PRED_PERIOD}-PRED_PERIOD'"
      ],
      "execution_count": null,
      "outputs": []
    },
    {
      "cell_type": "markdown",
      "metadata": {
        "id": "Kujlz54i-Q-b",
        "colab_type": "text"
      },
      "source": [
        "# Building Model"
      ]
    },
    {
      "cell_type": "code",
      "metadata": {
        "id": "JIxfYWCZ-K1z",
        "colab_type": "code",
        "colab": {}
      },
      "source": [
        "model = Sequential()\n",
        "\n",
        "model.add(LSTM(128, input_shape=(X_train.shape[1:]), return_sequences=True))\n",
        "model.add(Dropout(0.2))\n",
        "model.add(BatchNormalization())\n",
        "\n",
        "model.add(LSTM(128, input_shape=(X_train.shape[1:]), return_sequences=True))\n",
        "model.add(Dropout(0.2))\n",
        "model.add(BatchNormalization())\n",
        "\n",
        "model.add(LSTM(128, input_shape=(X_train.shape[1:])))\n",
        "model.add(Dropout(0.2))\n",
        "model.add(BatchNormalization())\n",
        "\n",
        "model.add(Dense(128, activation='relu'))\n",
        "model.add(Dropout(0.2))\n",
        "model.add(BatchNormalization())\n",
        "\n",
        "model.add(Dense(1, activation='sigmoid'))\n",
        "\n",
        "\n",
        "model.compile(optimizer=tf.keras.optimizers.Adam(lr=0.001, decay=1e-6),\n",
        "              loss='binary_crossentropy', metrics=['accuracy'])\n",
        "\n",
        "tensorboard = TensorBoard(log_dir=f'logs/{NAME}')\n",
        "early_stopping = EarlyStopping(monitor='val_loss', patience=3)"
      ],
      "execution_count": null,
      "outputs": []
    },
    {
      "cell_type": "code",
      "metadata": {
        "id": "fiehNFgp_mgI",
        "colab_type": "code",
        "colab": {
          "base_uri": "https://localhost:8080/",
          "height": 207
        },
        "outputId": "b38e5304-b81a-4857-e036-9751d6536d5e"
      },
      "source": [
        "model.fit(X_train, y_train, batch_size=BATCH_SIZE,\n",
        "          epochs=EPOCHS, validation_data=(X_test, y_test),\n",
        "          callbacks=[tensorboard, early_stopping])"
      ],
      "execution_count": null,
      "outputs": [
        {
          "output_type": "stream",
          "text": [
            "Epoch 1/10\n",
            " 2/10 [=====>........................] - ETA: 0s - loss: 0.4545 - accuracy: 0.7578WARNING:tensorflow:Callbacks method `on_train_batch_end` is slow compared to the batch time (batch time: 0.0316s vs `on_train_batch_end` time: 0.1593s). Check your callbacks.\n",
            "10/10 [==============================] - 0s 41ms/step - loss: 0.4785 - accuracy: 0.7559 - val_loss: 0.7235 - val_accuracy: 0.5000\n",
            "Epoch 2/10\n",
            "10/10 [==============================] - 0s 21ms/step - loss: 0.3953 - accuracy: 0.8244 - val_loss: 0.7460 - val_accuracy: 0.5000\n",
            "Epoch 3/10\n",
            "10/10 [==============================] - 0s 24ms/step - loss: 0.4078 - accuracy: 0.8094 - val_loss: 0.7724 - val_accuracy: 0.5000\n",
            "Epoch 4/10\n",
            "10/10 [==============================] - 0s 20ms/step - loss: 0.3726 - accuracy: 0.8244 - val_loss: 0.8008 - val_accuracy: 0.5000\n"
          ],
          "name": "stdout"
        },
        {
          "output_type": "execute_result",
          "data": {
            "text/plain": [
              "<tensorflow.python.keras.callbacks.History at 0x7f8c0145a828>"
            ]
          },
          "metadata": {
            "tags": []
          },
          "execution_count": 13
        }
      ]
    },
    {
      "cell_type": "code",
      "metadata": {
        "id": "Oh1yILOZBcnZ",
        "colab_type": "code",
        "colab": {
          "base_uri": "https://localhost:8080/",
          "height": 34
        },
        "outputId": "0201e821-b40c-4d16-ee54-6e8b963a2153"
      },
      "source": [
        "val_accruacy = model.evaluate(X_test, y_test)"
      ],
      "execution_count": null,
      "outputs": [
        {
          "output_type": "stream",
          "text": [
            "6/6 [==============================] - 0s 7ms/step - loss: 0.7003 - accuracy: 0.5333\n"
          ],
          "name": "stdout"
        }
      ]
    },
    {
      "cell_type": "code",
      "metadata": {
        "id": "scoYzgKJLUir",
        "colab_type": "code",
        "colab": {}
      },
      "source": [
        "y_pred = model.predict(X_test)"
      ],
      "execution_count": null,
      "outputs": []
    },
    {
      "cell_type": "code",
      "metadata": {
        "id": "butAVRtbNkMq",
        "colab_type": "code",
        "colab": {}
      },
      "source": [
        "y_pred = [1 if x>= 0.5 else 0 for x in y_pred]"
      ],
      "execution_count": null,
      "outputs": []
    },
    {
      "cell_type": "code",
      "metadata": {
        "id": "KwsGKGuSNnCe",
        "colab_type": "code",
        "colab": {}
      },
      "source": [
        "from sklearn.metrics import classification_report, confusion_matrix"
      ],
      "execution_count": null,
      "outputs": []
    },
    {
      "cell_type": "code",
      "metadata": {
        "id": "mCFyrkUUXM0E",
        "colab_type": "code",
        "colab": {
          "base_uri": "https://localhost:8080/",
          "height": 204
        },
        "outputId": "de4bb0ca-1da7-4ca9-f6eb-30f2cd26eab5"
      },
      "source": [
        "print(confusion_matrix(y_test, y_pred))\n",
        "print(classification_report(y_test, y_pred))"
      ],
      "execution_count": null,
      "outputs": [
        {
          "output_type": "stream",
          "text": [
            "[[90  0]\n",
            " [84  6]]\n",
            "              precision    recall  f1-score   support\n",
            "\n",
            "         0.0       0.52      1.00      0.68        90\n",
            "         1.0       1.00      0.07      0.12        90\n",
            "\n",
            "    accuracy                           0.53       180\n",
            "   macro avg       0.76      0.53      0.40       180\n",
            "weighted avg       0.76      0.53      0.40       180\n",
            "\n"
          ],
          "name": "stdout"
        }
      ]
    },
    {
      "cell_type": "markdown",
      "metadata": {
        "id": "BRhBOcvSXZl3",
        "colab_type": "text"
      },
      "source": [
        "# Testing Multiple Models"
      ]
    },
    {
      "cell_type": "code",
      "metadata": {
        "id": "GxmoYrL3XR0Y",
        "colab_type": "code",
        "colab": {
          "base_uri": "https://localhost:8080/",
          "height": 1000
        },
        "outputId": "fbcce69c-1d8d-4b59-a892-910c16b1a84b"
      },
      "source": [
        "layers = [3, 4]\n",
        "dense = [1, 2, 3]\n",
        "units = [64, 128, 256]\n",
        "\n",
        "for layer in layers:\n",
        "  for dense_layer in dense:\n",
        "    for unit in units:\n",
        "\n",
        "      model_name = f'{layer}-LSTM_{dense_layer}-Dense_{unit}-Unit'\n",
        "      print(model_name)\n",
        "\n",
        "      model = Sequential()\n",
        "\n",
        "      model.add(LSTM(unit, input_shape=(X_train.shape[1:]), return_sequences=True))\n",
        "      model.add(Dropout(0.2))\n",
        "      model.add(BatchNormalization())\n",
        "      for i in range(layer-2):\n",
        "        model.add(LSTM(unit, input_shape=(X_train.shape[1:]), return_sequences=True))\n",
        "        model.add(Dropout(0.2))\n",
        "        model.add(BatchNormalization())\n",
        "      model.add(LSTM(unit, input_shape=(X_train.shape[1:])))\n",
        "      model.add(Dropout(0.2))\n",
        "      model.add(BatchNormalization())\n",
        "\n",
        "      for x in range(dense_layer):\n",
        "        model.add(Dense(unit, activation='relu'))\n",
        "        model.add(Dropout(0.2))\n",
        "        model.add(BatchNormalization())\n",
        "\n",
        "      model.add(Dense(1, activation='sigmoid'))\n",
        "\n",
        "      model.compile(optimizer=tf.keras.optimizers.Adam(0.001, decay=1e-6),\n",
        "                    loss='binary_crossentropy', metrics=['accuracy'])\n",
        "      \n",
        "      tensorboard = TensorBoard(log_dir=f'logs/{model_name}')\n",
        "      filepath = 'RNN-Final-{epoch:02d}'\n",
        "      checkpoint = ModelCheckpoint('models/{}.model'.format(filepath, monitor='val_acc',\n",
        "                                                            verbose=1, save_best_only=True, mode='max'))\n",
        "      \n",
        "      model.fit(X_train, y_train, batch_size=BATCH_SIZE, epochs=EPOCHS,\n",
        "                validation_data=(X_test, y_test),\n",
        "                callbacks=[tensorboard, early_stopping, checkpoint])"
      ],
      "execution_count": null,
      "outputs": [
        {
          "output_type": "stream",
          "text": [
            "3-LSTM_1-Dense_64-Unit\n",
            "Epoch 1/10\n",
            " 2/10 [=====>........................] - ETA: 1s - loss: 0.8969 - accuracy: 0.4688WARNING:tensorflow:Callbacks method `on_train_batch_end` is slow compared to the batch time (batch time: 0.0263s vs `on_train_batch_end` time: 0.2946s). Check your callbacks.\n",
            " 8/10 [=======================>......] - ETA: 0s - loss: 0.7773 - accuracy: 0.5566INFO:tensorflow:Assets written to: models/RNN-Final-01.model/assets\n",
            "10/10 [==============================] - 13s 1s/step - loss: 0.7852 - accuracy: 0.5518 - val_loss: 0.6913 - val_accuracy: 0.5611\n",
            "Epoch 2/10\n",
            "10/10 [==============================] - ETA: 0s - loss: 0.6762 - accuracy: 0.6137INFO:tensorflow:Assets written to: models/RNN-Final-02.model/assets\n",
            "10/10 [==============================] - 12s 1s/step - loss: 0.6762 - accuracy: 0.6137 - val_loss: 0.6934 - val_accuracy: 0.5000\n",
            "Epoch 3/10\n",
            " 8/10 [=======================>......] - ETA: 0s - loss: 0.5997 - accuracy: 0.6660INFO:tensorflow:Assets written to: models/RNN-Final-03.model/assets\n",
            "10/10 [==============================] - 12s 1s/step - loss: 0.5856 - accuracy: 0.6789 - val_loss: 0.6946 - val_accuracy: 0.5000\n",
            "Epoch 4/10\n",
            " 8/10 [=======================>......] - ETA: 0s - loss: 0.5546 - accuracy: 0.7031INFO:tensorflow:Assets written to: models/RNN-Final-04.model/assets\n",
            "10/10 [==============================] - 11s 1s/step - loss: 0.5463 - accuracy: 0.7040 - val_loss: 0.6982 - val_accuracy: 0.5000\n",
            "3-LSTM_1-Dense_128-Unit\n",
            "Epoch 1/10\n",
            " 2/10 [=====>........................] - ETA: 1s - loss: 0.8687 - accuracy: 0.5156WARNING:tensorflow:Callbacks method `on_train_batch_end` is slow compared to the batch time (batch time: 0.0336s vs `on_train_batch_end` time: 0.3978s). Check your callbacks.\n",
            " 8/10 [=======================>......] - ETA: 0s - loss: 0.7488 - accuracy: 0.5605INFO:tensorflow:Assets written to: models/RNN-Final-01.model/assets\n",
            "10/10 [==============================] - 14s 1s/step - loss: 0.7395 - accuracy: 0.5652 - val_loss: 0.6980 - val_accuracy: 0.5056\n",
            "Epoch 2/10\n",
            "10/10 [==============================] - ETA: 0s - loss: 0.6264 - accuracy: 0.6589INFO:tensorflow:Assets written to: models/RNN-Final-02.model/assets\n",
            "10/10 [==============================] - 12s 1s/step - loss: 0.6264 - accuracy: 0.6589 - val_loss: 0.7061 - val_accuracy: 0.5000\n",
            "Epoch 3/10\n",
            "10/10 [==============================] - ETA: 0s - loss: 0.5392 - accuracy: 0.7341INFO:tensorflow:Assets written to: models/RNN-Final-03.model/assets\n",
            "10/10 [==============================] - 12s 1s/step - loss: 0.5392 - accuracy: 0.7341 - val_loss: 0.7186 - val_accuracy: 0.5000\n",
            "Epoch 4/10\n",
            "10/10 [==============================] - ETA: 0s - loss: 0.4752 - accuracy: 0.7609INFO:tensorflow:Assets written to: models/RNN-Final-04.model/assets\n",
            "10/10 [==============================] - 12s 1s/step - loss: 0.4752 - accuracy: 0.7609 - val_loss: 0.7400 - val_accuracy: 0.5000\n",
            "3-LSTM_1-Dense_256-Unit\n",
            "Epoch 1/10\n",
            " 2/10 [=====>........................] - ETA: 1s - loss: 1.0392 - accuracy: 0.5547WARNING:tensorflow:Callbacks method `on_train_batch_end` is slow compared to the batch time (batch time: 0.0356s vs `on_train_batch_end` time: 0.3022s). Check your callbacks.\n",
            "10/10 [==============================] - ETA: 0s - loss: 0.8394 - accuracy: 0.6003INFO:tensorflow:Assets written to: models/RNN-Final-01.model/assets\n",
            "10/10 [==============================] - 14s 1s/step - loss: 0.8394 - accuracy: 0.6003 - val_loss: 0.6915 - val_accuracy: 0.5889\n",
            "Epoch 2/10\n",
            "10/10 [==============================] - ETA: 0s - loss: 0.6150 - accuracy: 0.6689INFO:tensorflow:Assets written to: models/RNN-Final-02.model/assets\n",
            "10/10 [==============================] - 11s 1s/step - loss: 0.6150 - accuracy: 0.6689 - val_loss: 0.6844 - val_accuracy: 0.4889\n",
            "Epoch 3/10\n",
            " 8/10 [=======================>......] - ETA: 0s - loss: 0.5279 - accuracy: 0.7324INFO:tensorflow:Assets written to: models/RNN-Final-03.model/assets\n",
            "10/10 [==============================] - 13s 1s/step - loss: 0.5212 - accuracy: 0.7391 - val_loss: 0.6747 - val_accuracy: 0.5556\n",
            "Epoch 4/10\n",
            "10/10 [==============================] - ETA: 0s - loss: 0.4708 - accuracy: 0.7793INFO:tensorflow:Assets written to: models/RNN-Final-04.model/assets\n",
            "10/10 [==============================] - 13s 1s/step - loss: 0.4708 - accuracy: 0.7793 - val_loss: 0.6763 - val_accuracy: 0.5444\n",
            "Epoch 5/10\n",
            "10/10 [==============================] - ETA: 0s - loss: 0.3749 - accuracy: 0.8445INFO:tensorflow:Assets written to: models/RNN-Final-05.model/assets\n",
            "10/10 [==============================] - 12s 1s/step - loss: 0.3749 - accuracy: 0.8445 - val_loss: 0.6853 - val_accuracy: 0.5389\n",
            "Epoch 6/10\n",
            " 8/10 [=======================>......] - ETA: 0s - loss: 0.3016 - accuracy: 0.8730INFO:tensorflow:Assets written to: models/RNN-Final-06.model/assets\n",
            "10/10 [==============================] - 13s 1s/step - loss: 0.3097 - accuracy: 0.8712 - val_loss: 0.6918 - val_accuracy: 0.5500\n",
            "3-LSTM_2-Dense_64-Unit\n",
            "Epoch 1/10\n",
            " 2/10 [=====>........................] - ETA: 1s - loss: 1.0062 - accuracy: 0.4922WARNING:tensorflow:Callbacks method `on_train_batch_end` is slow compared to the batch time (batch time: 0.0272s vs `on_train_batch_end` time: 0.3501s). Check your callbacks.\n",
            " 8/10 [=======================>......] - ETA: 0s - loss: 0.8593 - accuracy: 0.5488INFO:tensorflow:Assets written to: models/RNN-Final-01.model/assets\n",
            "10/10 [==============================] - 13s 1s/step - loss: 0.8573 - accuracy: 0.5385 - val_loss: 0.6935 - val_accuracy: 0.5000\n",
            "Epoch 2/10\n",
            "10/10 [==============================] - ETA: 0s - loss: 0.7094 - accuracy: 0.6187INFO:tensorflow:Assets written to: models/RNN-Final-02.model/assets\n",
            "10/10 [==============================] - 12s 1s/step - loss: 0.7094 - accuracy: 0.6187 - val_loss: 0.6937 - val_accuracy: 0.5000\n",
            "Epoch 3/10\n",
            "10/10 [==============================] - ETA: 0s - loss: 0.6883 - accuracy: 0.6003INFO:tensorflow:Assets written to: models/RNN-Final-03.model/assets\n",
            "10/10 [==============================] - 13s 1s/step - loss: 0.6883 - accuracy: 0.6003 - val_loss: 0.6944 - val_accuracy: 0.5000\n",
            "Epoch 4/10\n",
            "10/10 [==============================] - ETA: 0s - loss: 0.6276 - accuracy: 0.6522INFO:tensorflow:Assets written to: models/RNN-Final-04.model/assets\n",
            "10/10 [==============================] - 13s 1s/step - loss: 0.6276 - accuracy: 0.6522 - val_loss: 0.6960 - val_accuracy: 0.5000\n",
            "3-LSTM_2-Dense_128-Unit\n",
            "Epoch 1/10\n",
            " 2/10 [=====>........................] - ETA: 1s - loss: 0.8819 - accuracy: 0.4922WARNING:tensorflow:Callbacks method `on_train_batch_end` is slow compared to the batch time (batch time: 0.0320s vs `on_train_batch_end` time: 0.2971s). Check your callbacks.\n",
            " 8/10 [=======================>......] - ETA: 0s - loss: 0.7996 - accuracy: 0.5723INFO:tensorflow:Assets written to: models/RNN-Final-01.model/assets\n",
            "10/10 [==============================] - 14s 1s/step - loss: 0.7956 - accuracy: 0.5635 - val_loss: 0.6926 - val_accuracy: 0.5778\n",
            "Epoch 2/10\n",
            "10/10 [==============================] - ETA: 0s - loss: 0.7086 - accuracy: 0.6003INFO:tensorflow:Assets written to: models/RNN-Final-02.model/assets\n",
            "10/10 [==============================] - 11s 1s/step - loss: 0.7086 - accuracy: 0.6003 - val_loss: 0.6900 - val_accuracy: 0.5444\n",
            "Epoch 3/10\n",
            "10/10 [==============================] - ETA: 0s - loss: 0.6084 - accuracy: 0.6906INFO:tensorflow:Assets written to: models/RNN-Final-03.model/assets\n",
            "10/10 [==============================] - 13s 1s/step - loss: 0.6084 - accuracy: 0.6906 - val_loss: 0.6906 - val_accuracy: 0.5000\n",
            "Epoch 4/10\n",
            "10/10 [==============================] - ETA: 0s - loss: 0.5691 - accuracy: 0.7090INFO:tensorflow:Assets written to: models/RNN-Final-04.model/assets\n",
            "10/10 [==============================] - 12s 1s/step - loss: 0.5691 - accuracy: 0.7090 - val_loss: 0.6920 - val_accuracy: 0.5000\n",
            "Epoch 5/10\n",
            "10/10 [==============================] - ETA: 0s - loss: 0.5072 - accuracy: 0.7441INFO:tensorflow:Assets written to: models/RNN-Final-05.model/assets\n",
            "10/10 [==============================] - 13s 1s/step - loss: 0.5072 - accuracy: 0.7441 - val_loss: 0.6990 - val_accuracy: 0.5000\n",
            "3-LSTM_2-Dense_256-Unit\n",
            "Epoch 1/10\n",
            " 2/10 [=====>........................] - ETA: 1s - loss: 0.9125 - accuracy: 0.5000WARNING:tensorflow:Callbacks method `on_train_batch_end` is slow compared to the batch time (batch time: 0.0264s vs `on_train_batch_end` time: 0.3100s). Check your callbacks.\n",
            " 9/10 [==========================>...] - ETA: 0s - loss: 0.8480 - accuracy: 0.5486INFO:tensorflow:Assets written to: models/RNN-Final-01.model/assets\n",
            "10/10 [==============================] - 14s 1s/step - loss: 0.8508 - accuracy: 0.5468 - val_loss: 0.6961 - val_accuracy: 0.4056\n",
            "Epoch 2/10\n",
            " 9/10 [==========================>...] - ETA: 0s - loss: 0.6789 - accuracy: 0.6267INFO:tensorflow:Assets written to: models/RNN-Final-02.model/assets\n",
            "10/10 [==============================] - 13s 1s/step - loss: 0.6767 - accuracy: 0.6288 - val_loss: 0.6887 - val_accuracy: 0.4944\n",
            "Epoch 3/10\n",
            "10/10 [==============================] - ETA: 0s - loss: 0.6005 - accuracy: 0.6856INFO:tensorflow:Assets written to: models/RNN-Final-03.model/assets\n",
            "10/10 [==============================] - 11s 1s/step - loss: 0.6005 - accuracy: 0.6856 - val_loss: 0.6892 - val_accuracy: 0.4889\n",
            "Epoch 4/10\n",
            " 9/10 [==========================>...] - ETA: 0s - loss: 0.4960 - accuracy: 0.7569INFO:tensorflow:Assets written to: models/RNN-Final-04.model/assets\n",
            "10/10 [==============================] - 13s 1s/step - loss: 0.5058 - accuracy: 0.7542 - val_loss: 0.6780 - val_accuracy: 0.5611\n",
            "Epoch 5/10\n",
            " 9/10 [==========================>...] - ETA: 0s - loss: 0.4648 - accuracy: 0.7795INFO:tensorflow:Assets written to: models/RNN-Final-05.model/assets\n",
            "10/10 [==============================] - 13s 1s/step - loss: 0.4633 - accuracy: 0.7793 - val_loss: 0.6960 - val_accuracy: 0.5389\n",
            "Epoch 6/10\n",
            " 9/10 [==========================>...] - ETA: 0s - loss: 0.4477 - accuracy: 0.7865INFO:tensorflow:Assets written to: models/RNN-Final-06.model/assets\n",
            "10/10 [==============================] - 12s 1s/step - loss: 0.4400 - accuracy: 0.7893 - val_loss: 0.6794 - val_accuracy: 0.5611\n",
            "Epoch 7/10\n",
            " 9/10 [==========================>...] - ETA: 0s - loss: 0.3808 - accuracy: 0.8142INFO:tensorflow:Assets written to: models/RNN-Final-07.model/assets\n",
            "10/10 [==============================] - 13s 1s/step - loss: 0.3852 - accuracy: 0.8094 - val_loss: 0.7017 - val_accuracy: 0.5222\n",
            "3-LSTM_3-Dense_64-Unit\n",
            "Epoch 1/10\n",
            " 2/10 [=====>........................] - ETA: 1s - loss: 0.9277 - accuracy: 0.5000WARNING:tensorflow:Callbacks method `on_train_batch_end` is slow compared to the batch time (batch time: 0.0382s vs `on_train_batch_end` time: 0.3477s). Check your callbacks.\n",
            " 8/10 [=======================>......] - ETA: 0s - loss: 0.8168 - accuracy: 0.5586INFO:tensorflow:Assets written to: models/RNN-Final-01.model/assets\n",
            "10/10 [==============================] - 13s 1s/step - loss: 0.8166 - accuracy: 0.5535 - val_loss: 0.6927 - val_accuracy: 0.5000\n",
            "Epoch 2/10\n",
            "10/10 [==============================] - ETA: 0s - loss: 0.7644 - accuracy: 0.5485INFO:tensorflow:Assets written to: models/RNN-Final-02.model/assets\n",
            "10/10 [==============================] - 13s 1s/step - loss: 0.7644 - accuracy: 0.5485 - val_loss: 0.6924 - val_accuracy: 0.5000\n",
            "Epoch 3/10\n",
            "10/10 [==============================] - ETA: 0s - loss: 0.7573 - accuracy: 0.5485INFO:tensorflow:Assets written to: models/RNN-Final-03.model/assets\n",
            "10/10 [==============================] - 13s 1s/step - loss: 0.7573 - accuracy: 0.5485 - val_loss: 0.6928 - val_accuracy: 0.5000\n",
            "Epoch 4/10\n",
            "10/10 [==============================] - ETA: 0s - loss: 0.7161 - accuracy: 0.6070INFO:tensorflow:Assets written to: models/RNN-Final-04.model/assets\n",
            "10/10 [==============================] - 13s 1s/step - loss: 0.7161 - accuracy: 0.6070 - val_loss: 0.6931 - val_accuracy: 0.5000\n",
            "Epoch 5/10\n",
            "10/10 [==============================] - ETA: 0s - loss: 0.6869 - accuracy: 0.6104INFO:tensorflow:Assets written to: models/RNN-Final-05.model/assets\n",
            "10/10 [==============================] - 12s 1s/step - loss: 0.6869 - accuracy: 0.6104 - val_loss: 0.6944 - val_accuracy: 0.5000\n",
            "3-LSTM_3-Dense_128-Unit\n",
            "Epoch 1/10\n",
            " 2/10 [=====>........................] - ETA: 2s - loss: 0.7940 - accuracy: 0.5469WARNING:tensorflow:Callbacks method `on_train_batch_end` is slow compared to the batch time (batch time: 0.0291s vs `on_train_batch_end` time: 0.4924s). Check your callbacks.\n",
            " 8/10 [=======================>......] - ETA: 0s - loss: 0.8051 - accuracy: 0.5410INFO:tensorflow:Assets written to: models/RNN-Final-01.model/assets\n",
            "10/10 [==============================] - 14s 1s/step - loss: 0.7896 - accuracy: 0.5552 - val_loss: 0.6921 - val_accuracy: 0.5000\n",
            "Epoch 2/10\n",
            "10/10 [==============================] - ETA: 0s - loss: 0.7684 - accuracy: 0.5702INFO:tensorflow:Assets written to: models/RNN-Final-02.model/assets\n",
            "10/10 [==============================] - 12s 1s/step - loss: 0.7684 - accuracy: 0.5702 - val_loss: 0.6913 - val_accuracy: 0.5000\n",
            "Epoch 3/10\n",
            "10/10 [==============================] - ETA: 0s - loss: 0.7322 - accuracy: 0.5652INFO:tensorflow:Assets written to: models/RNN-Final-03.model/assets\n",
            "10/10 [==============================] - 13s 1s/step - loss: 0.7322 - accuracy: 0.5652 - val_loss: 0.6888 - val_accuracy: 0.4722\n",
            "Epoch 4/10\n",
            "10/10 [==============================] - ETA: 0s - loss: 0.6694 - accuracy: 0.6187INFO:tensorflow:Assets written to: models/RNN-Final-04.model/assets\n",
            "10/10 [==============================] - 13s 1s/step - loss: 0.6694 - accuracy: 0.6187 - val_loss: 0.6906 - val_accuracy: 0.4944\n",
            "Epoch 5/10\n",
            "10/10 [==============================] - ETA: 0s - loss: 0.6148 - accuracy: 0.6538INFO:tensorflow:Assets written to: models/RNN-Final-05.model/assets\n",
            "10/10 [==============================] - 12s 1s/step - loss: 0.6148 - accuracy: 0.6538 - val_loss: 0.6895 - val_accuracy: 0.5000\n",
            "Epoch 6/10\n",
            "10/10 [==============================] - ETA: 0s - loss: 0.5669 - accuracy: 0.7425INFO:tensorflow:Assets written to: models/RNN-Final-06.model/assets\n",
            "10/10 [==============================] - 13s 1s/step - loss: 0.5669 - accuracy: 0.7425 - val_loss: 0.6863 - val_accuracy: 0.5000\n",
            "Epoch 7/10\n",
            "10/10 [==============================] - ETA: 0s - loss: 0.4885 - accuracy: 0.7425INFO:tensorflow:Assets written to: models/RNN-Final-07.model/assets\n",
            "10/10 [==============================] - 13s 1s/step - loss: 0.4885 - accuracy: 0.7425 - val_loss: 0.6962 - val_accuracy: 0.5000\n",
            "Epoch 8/10\n",
            "10/10 [==============================] - ETA: 0s - loss: 0.4683 - accuracy: 0.7692INFO:tensorflow:Assets written to: models/RNN-Final-08.model/assets\n",
            "10/10 [==============================] - 13s 1s/step - loss: 0.4683 - accuracy: 0.7692 - val_loss: 0.6952 - val_accuracy: 0.5000\n",
            "Epoch 9/10\n",
            "10/10 [==============================] - ETA: 0s - loss: 0.4950 - accuracy: 0.7609INFO:tensorflow:Assets written to: models/RNN-Final-09.model/assets\n",
            "10/10 [==============================] - 12s 1s/step - loss: 0.4950 - accuracy: 0.7609 - val_loss: 0.6833 - val_accuracy: 0.4889\n",
            "Epoch 10/10\n",
            "10/10 [==============================] - ETA: 0s - loss: 0.4391 - accuracy: 0.8010INFO:tensorflow:Assets written to: models/RNN-Final-10.model/assets\n",
            "10/10 [==============================] - 13s 1s/step - loss: 0.4391 - accuracy: 0.8010 - val_loss: 0.6896 - val_accuracy: 0.5000\n",
            "3-LSTM_3-Dense_256-Unit\n",
            "Epoch 1/10\n",
            " 2/10 [=====>........................] - ETA: 1s - loss: 0.7883 - accuracy: 0.5547WARNING:tensorflow:Callbacks method `on_train_batch_end` is slow compared to the batch time (batch time: 0.0280s vs `on_train_batch_end` time: 0.3466s). Check your callbacks.\n",
            "10/10 [==============================] - ETA: 0s - loss: 0.7734 - accuracy: 0.5987INFO:tensorflow:Assets written to: models/RNN-Final-01.model/assets\n",
            "10/10 [==============================] - 14s 1s/step - loss: 0.7734 - accuracy: 0.5987 - val_loss: 0.6928 - val_accuracy: 0.5000\n",
            "Epoch 2/10\n",
            " 9/10 [==========================>...] - ETA: 0s - loss: 0.6655 - accuracy: 0.6354INFO:tensorflow:Assets written to: models/RNN-Final-02.model/assets\n",
            "10/10 [==============================] - 13s 1s/step - loss: 0.6658 - accuracy: 0.6388 - val_loss: 0.6880 - val_accuracy: 0.6611\n",
            "Epoch 3/10\n",
            " 8/10 [=======================>......] - ETA: 0s - loss: 0.6831 - accuracy: 0.6250INFO:tensorflow:Assets written to: models/RNN-Final-03.model/assets\n",
            "10/10 [==============================] - 13s 1s/step - loss: 0.6728 - accuracy: 0.6288 - val_loss: 0.6871 - val_accuracy: 0.6444\n",
            "Epoch 4/10\n",
            " 8/10 [=======================>......] - ETA: 0s - loss: 0.5925 - accuracy: 0.7012INFO:tensorflow:Assets written to: models/RNN-Final-04.model/assets\n",
            "10/10 [==============================] - 13s 1s/step - loss: 0.6006 - accuracy: 0.7040 - val_loss: 0.6933 - val_accuracy: 0.5278\n",
            "Epoch 5/10\n",
            " 9/10 [==========================>...] - ETA: 0s - loss: 0.5313 - accuracy: 0.7274INFO:tensorflow:Assets written to: models/RNN-Final-05.model/assets\n",
            "10/10 [==============================] - 12s 1s/step - loss: 0.5357 - accuracy: 0.7274 - val_loss: 0.6745 - val_accuracy: 0.6000\n",
            "Epoch 6/10\n",
            " 9/10 [==========================>...] - ETA: 0s - loss: 0.5316 - accuracy: 0.7396INFO:tensorflow:Assets written to: models/RNN-Final-06.model/assets\n",
            "10/10 [==============================] - 14s 1s/step - loss: 0.5342 - accuracy: 0.7408 - val_loss: 0.7022 - val_accuracy: 0.5056\n",
            "Epoch 7/10\n",
            " 8/10 [=======================>......] - ETA: 0s - loss: 0.4274 - accuracy: 0.8008INFO:tensorflow:Assets written to: models/RNN-Final-07.model/assets\n",
            "10/10 [==============================] - 13s 1s/step - loss: 0.4291 - accuracy: 0.8027 - val_loss: 0.6825 - val_accuracy: 0.5556\n",
            "Epoch 8/10\n",
            " 9/10 [==========================>...] - ETA: 0s - loss: 0.4034 - accuracy: 0.8212INFO:tensorflow:Assets written to: models/RNN-Final-08.model/assets\n",
            "10/10 [==============================] - 13s 1s/step - loss: 0.4032 - accuracy: 0.8211 - val_loss: 0.7209 - val_accuracy: 0.4667\n",
            "4-LSTM_1-Dense_64-Unit\n",
            "Epoch 1/10\n",
            " 2/10 [=====>........................] - ETA: 1s - loss: 0.7448 - accuracy: 0.5234WARNING:tensorflow:Callbacks method `on_train_batch_end` is slow compared to the batch time (batch time: 0.0310s vs `on_train_batch_end` time: 0.4111s). Check your callbacks.\n",
            " 8/10 [=======================>......] - ETA: 0s - loss: 0.7092 - accuracy: 0.6133INFO:tensorflow:Assets written to: models/RNN-Final-01.model/assets\n",
            "10/10 [==============================] - 18s 2s/step - loss: 0.7097 - accuracy: 0.6137 - val_loss: 0.6940 - val_accuracy: 0.5000\n",
            "Epoch 2/10\n",
            "10/10 [==============================] - ETA: 0s - loss: 0.6399 - accuracy: 0.6388INFO:tensorflow:Assets written to: models/RNN-Final-02.model/assets\n",
            "10/10 [==============================] - 15s 1s/step - loss: 0.6399 - accuracy: 0.6388 - val_loss: 0.6927 - val_accuracy: 0.5000\n",
            "Epoch 3/10\n",
            "10/10 [==============================] - ETA: 0s - loss: 0.5631 - accuracy: 0.7007INFO:tensorflow:Assets written to: models/RNN-Final-03.model/assets\n",
            "10/10 [==============================] - 17s 2s/step - loss: 0.5631 - accuracy: 0.7007 - val_loss: 0.6915 - val_accuracy: 0.5000\n",
            "Epoch 4/10\n",
            "10/10 [==============================] - ETA: 0s - loss: 0.5034 - accuracy: 0.7375INFO:tensorflow:Assets written to: models/RNN-Final-04.model/assets\n",
            "10/10 [==============================] - 16s 2s/step - loss: 0.5034 - accuracy: 0.7375 - val_loss: 0.6929 - val_accuracy: 0.5000\n",
            "Epoch 5/10\n",
            "10/10 [==============================] - ETA: 0s - loss: 0.5260 - accuracy: 0.7508INFO:tensorflow:Assets written to: models/RNN-Final-05.model/assets\n",
            "10/10 [==============================] - 16s 2s/step - loss: 0.5260 - accuracy: 0.7508 - val_loss: 0.6933 - val_accuracy: 0.5000\n",
            "Epoch 6/10\n",
            "10/10 [==============================] - ETA: 0s - loss: 0.4222 - accuracy: 0.8127INFO:tensorflow:Assets written to: models/RNN-Final-06.model/assets\n",
            "10/10 [==============================] - 16s 2s/step - loss: 0.4222 - accuracy: 0.8127 - val_loss: 0.7002 - val_accuracy: 0.5000\n",
            "4-LSTM_1-Dense_128-Unit\n",
            "Epoch 1/10\n",
            " 2/10 [=====>........................] - ETA: 1s - loss: 0.9160 - accuracy: 0.5234WARNING:tensorflow:Callbacks method `on_train_batch_end` is slow compared to the batch time (batch time: 0.0311s vs `on_train_batch_end` time: 0.3454s). Check your callbacks.\n",
            "10/10 [==============================] - ETA: 0s - loss: 0.7791 - accuracy: 0.5853INFO:tensorflow:Assets written to: models/RNN-Final-01.model/assets\n",
            "10/10 [==============================] - 18s 2s/step - loss: 0.7791 - accuracy: 0.5853 - val_loss: 0.6926 - val_accuracy: 0.5000\n",
            "Epoch 2/10\n",
            "10/10 [==============================] - ETA: 0s - loss: 0.5915 - accuracy: 0.6839INFO:tensorflow:Assets written to: models/RNN-Final-02.model/assets\n",
            "10/10 [==============================] - 16s 2s/step - loss: 0.5915 - accuracy: 0.6839 - val_loss: 0.6913 - val_accuracy: 0.5000\n",
            "Epoch 3/10\n",
            "10/10 [==============================] - ETA: 0s - loss: 0.5474 - accuracy: 0.7258INFO:tensorflow:Assets written to: models/RNN-Final-03.model/assets\n",
            "10/10 [==============================] - 16s 2s/step - loss: 0.5474 - accuracy: 0.7258 - val_loss: 0.6906 - val_accuracy: 0.5167\n",
            "Epoch 4/10\n",
            "10/10 [==============================] - ETA: 0s - loss: 0.4952 - accuracy: 0.7642INFO:tensorflow:Assets written to: models/RNN-Final-04.model/assets\n",
            "10/10 [==============================] - 16s 2s/step - loss: 0.4952 - accuracy: 0.7642 - val_loss: 0.6941 - val_accuracy: 0.5000\n",
            "Epoch 5/10\n",
            "10/10 [==============================] - ETA: 0s - loss: 0.4418 - accuracy: 0.7809INFO:tensorflow:Assets written to: models/RNN-Final-05.model/assets\n",
            "10/10 [==============================] - 15s 1s/step - loss: 0.4418 - accuracy: 0.7809 - val_loss: 0.7073 - val_accuracy: 0.5000\n",
            "Epoch 6/10\n",
            " 9/10 [==========================>...] - ETA: 0s - loss: 0.4150 - accuracy: 0.8073INFO:tensorflow:Assets written to: models/RNN-Final-06.model/assets\n",
            "10/10 [==============================] - 16s 2s/step - loss: 0.4155 - accuracy: 0.8060 - val_loss: 0.7160 - val_accuracy: 0.5000\n",
            "4-LSTM_1-Dense_256-Unit\n",
            "Epoch 1/10\n",
            " 2/10 [=====>........................] - ETA: 1s - loss: 0.9608 - accuracy: 0.4922WARNING:tensorflow:Callbacks method `on_train_batch_end` is slow compared to the batch time (batch time: 0.0320s vs `on_train_batch_end` time: 0.3946s). Check your callbacks.\n",
            "10/10 [==============================] - ETA: 0s - loss: 0.7922 - accuracy: 0.5853INFO:tensorflow:Assets written to: models/RNN-Final-01.model/assets\n",
            "10/10 [==============================] - 17s 2s/step - loss: 0.7922 - accuracy: 0.5853 - val_loss: 0.6954 - val_accuracy: 0.5056\n",
            "Epoch 2/10\n",
            " 9/10 [==========================>...] - ETA: 0s - loss: 0.5971 - accuracy: 0.7014INFO:tensorflow:Assets written to: models/RNN-Final-02.model/assets\n",
            "10/10 [==============================] - 14s 1s/step - loss: 0.6207 - accuracy: 0.6906 - val_loss: 0.6911 - val_accuracy: 0.5278\n",
            "Epoch 3/10\n",
            " 9/10 [==========================>...] - ETA: 0s - loss: 0.5361 - accuracy: 0.7361INFO:tensorflow:Assets written to: models/RNN-Final-03.model/assets\n",
            "10/10 [==============================] - 17s 2s/step - loss: 0.5345 - accuracy: 0.7391 - val_loss: 0.7047 - val_accuracy: 0.5222\n",
            "Epoch 4/10\n",
            " 9/10 [==========================>...] - ETA: 0s - loss: 0.5191 - accuracy: 0.7622INFO:tensorflow:Assets written to: models/RNN-Final-04.model/assets\n",
            "10/10 [==============================] - 16s 2s/step - loss: 0.5158 - accuracy: 0.7592 - val_loss: 0.7086 - val_accuracy: 0.5278\n",
            "Epoch 5/10\n",
            " 9/10 [==========================>...] - ETA: 0s - loss: 0.4446 - accuracy: 0.7934INFO:tensorflow:Assets written to: models/RNN-Final-05.model/assets\n",
            "10/10 [==============================] - 16s 2s/step - loss: 0.4524 - accuracy: 0.7926 - val_loss: 0.7312 - val_accuracy: 0.5000\n",
            "4-LSTM_2-Dense_64-Unit\n",
            "Epoch 1/10\n",
            " 2/10 [=====>........................] - ETA: 2s - loss: 0.9208 - accuracy: 0.4609WARNING:tensorflow:Callbacks method `on_train_batch_end` is slow compared to the batch time (batch time: 0.0329s vs `on_train_batch_end` time: 0.4963s). Check your callbacks.\n",
            " 9/10 [==========================>...] - ETA: 0s - loss: 0.8319 - accuracy: 0.5243INFO:tensorflow:Assets written to: models/RNN-Final-01.model/assets\n",
            "10/10 [==============================] - 18s 2s/step - loss: 0.8319 - accuracy: 0.5268 - val_loss: 0.6932 - val_accuracy: 0.5444\n",
            "Epoch 2/10\n",
            " 9/10 [==========================>...] - ETA: 0s - loss: 0.7633 - accuracy: 0.5486INFO:tensorflow:Assets written to: models/RNN-Final-02.model/assets\n",
            "10/10 [==============================] - 16s 2s/step - loss: 0.7628 - accuracy: 0.5485 - val_loss: 0.6940 - val_accuracy: 0.5444\n",
            "Epoch 3/10\n",
            "10/10 [==============================] - ETA: 0s - loss: 0.6718 - accuracy: 0.6104INFO:tensorflow:Assets written to: models/RNN-Final-03.model/assets\n",
            "10/10 [==============================] - 15s 1s/step - loss: 0.6718 - accuracy: 0.6104 - val_loss: 0.6931 - val_accuracy: 0.5000\n",
            "Epoch 4/10\n",
            " 9/10 [==========================>...] - ETA: 0s - loss: 0.6637 - accuracy: 0.6406INFO:tensorflow:Assets written to: models/RNN-Final-04.model/assets\n",
            "10/10 [==============================] - 17s 2s/step - loss: 0.6660 - accuracy: 0.6388 - val_loss: 0.6908 - val_accuracy: 0.5000\n",
            "Epoch 5/10\n",
            "10/10 [==============================] - ETA: 0s - loss: 0.6331 - accuracy: 0.6572INFO:tensorflow:Assets written to: models/RNN-Final-05.model/assets\n",
            "10/10 [==============================] - 16s 2s/step - loss: 0.6331 - accuracy: 0.6572 - val_loss: 0.6901 - val_accuracy: 0.5000\n",
            "Epoch 6/10\n",
            " 9/10 [==========================>...] - ETA: 0s - loss: 0.6194 - accuracy: 0.6597INFO:tensorflow:Assets written to: models/RNN-Final-06.model/assets\n",
            "10/10 [==============================] - 16s 2s/step - loss: 0.6201 - accuracy: 0.6555 - val_loss: 0.6910 - val_accuracy: 0.5000\n",
            "Epoch 7/10\n",
            " 9/10 [==========================>...] - ETA: 0s - loss: 0.5556 - accuracy: 0.6979INFO:tensorflow:Assets written to: models/RNN-Final-07.model/assets\n",
            "10/10 [==============================] - 16s 2s/step - loss: 0.5551 - accuracy: 0.6990 - val_loss: 0.6886 - val_accuracy: 0.4889\n",
            "Epoch 8/10\n",
            "10/10 [==============================] - ETA: 0s - loss: 0.5351 - accuracy: 0.7241INFO:tensorflow:Assets written to: models/RNN-Final-08.model/assets\n",
            "10/10 [==============================] - 15s 1s/step - loss: 0.5351 - accuracy: 0.7241 - val_loss: 0.6897 - val_accuracy: 0.5556\n",
            "Epoch 9/10\n",
            "10/10 [==============================] - ETA: 0s - loss: 0.5160 - accuracy: 0.7542INFO:tensorflow:Assets written to: models/RNN-Final-09.model/assets\n",
            "10/10 [==============================] - 17s 2s/step - loss: 0.5160 - accuracy: 0.7542 - val_loss: 0.6851 - val_accuracy: 0.5778\n",
            "Epoch 10/10\n",
            "10/10 [==============================] - ETA: 0s - loss: 0.5229 - accuracy: 0.7542INFO:tensorflow:Assets written to: models/RNN-Final-10.model/assets\n",
            "10/10 [==============================] - 16s 2s/step - loss: 0.5229 - accuracy: 0.7542 - val_loss: 0.6774 - val_accuracy: 0.5389\n",
            "4-LSTM_2-Dense_128-Unit\n",
            "Epoch 1/10\n",
            " 2/10 [=====>........................] - ETA: 1s - loss: 0.7585 - accuracy: 0.6250WARNING:tensorflow:Callbacks method `on_train_batch_end` is slow compared to the batch time (batch time: 0.0321s vs `on_train_batch_end` time: 0.4100s). Check your callbacks.\n",
            "10/10 [==============================] - ETA: 0s - loss: 0.7687 - accuracy: 0.5535INFO:tensorflow:Assets written to: models/RNN-Final-01.model/assets\n",
            "10/10 [==============================] - 18s 2s/step - loss: 0.7687 - accuracy: 0.5535 - val_loss: 0.6928 - val_accuracy: 0.5000\n",
            "Epoch 2/10\n",
            " 9/10 [==========================>...] - ETA: 0s - loss: 0.6760 - accuracy: 0.6493INFO:tensorflow:Assets written to: models/RNN-Final-02.model/assets\n",
            "10/10 [==============================] - 16s 2s/step - loss: 0.6671 - accuracy: 0.6555 - val_loss: 0.6912 - val_accuracy: 0.4778\n",
            "Epoch 3/10\n",
            " 8/10 [=======================>......] - ETA: 0s - loss: 0.5960 - accuracy: 0.6797INFO:tensorflow:Assets written to: models/RNN-Final-03.model/assets\n",
            "10/10 [==============================] - 17s 2s/step - loss: 0.5936 - accuracy: 0.6806 - val_loss: 0.6914 - val_accuracy: 0.5556\n",
            "Epoch 4/10\n",
            " 9/10 [==========================>...] - ETA: 0s - loss: 0.5423 - accuracy: 0.7170INFO:tensorflow:Assets written to: models/RNN-Final-04.model/assets\n",
            "10/10 [==============================] - 17s 2s/step - loss: 0.5422 - accuracy: 0.7140 - val_loss: 0.6894 - val_accuracy: 0.5167\n",
            "Epoch 5/10\n",
            " 9/10 [==========================>...] - ETA: 0s - loss: 0.5512 - accuracy: 0.7257INFO:tensorflow:Assets written to: models/RNN-Final-05.model/assets\n",
            "10/10 [==============================] - 16s 2s/step - loss: 0.5527 - accuracy: 0.7224 - val_loss: 0.6817 - val_accuracy: 0.5444\n",
            "Epoch 6/10\n",
            " 9/10 [==========================>...] - ETA: 0s - loss: 0.4851 - accuracy: 0.7674INFO:tensorflow:Assets written to: models/RNN-Final-06.model/assets\n",
            "10/10 [==============================] - 18s 2s/step - loss: 0.4880 - accuracy: 0.7659 - val_loss: 0.6865 - val_accuracy: 0.5778\n",
            "Epoch 7/10\n",
            " 9/10 [==========================>...] - ETA: 0s - loss: 0.4714 - accuracy: 0.7865INFO:tensorflow:Assets written to: models/RNN-Final-07.model/assets\n",
            "10/10 [==============================] - 17s 2s/step - loss: 0.4773 - accuracy: 0.7826 - val_loss: 0.7026 - val_accuracy: 0.5611\n",
            "Epoch 8/10\n",
            " 9/10 [==========================>...] - ETA: 0s - loss: 0.4693 - accuracy: 0.7743INFO:tensorflow:Assets written to: models/RNN-Final-08.model/assets\n",
            "10/10 [==============================] - 17s 2s/step - loss: 0.4773 - accuracy: 0.7709 - val_loss: 0.7668 - val_accuracy: 0.5611\n",
            "4-LSTM_2-Dense_256-Unit\n",
            "Epoch 1/10\n",
            " 2/10 [=====>........................] - ETA: 1s - loss: 0.8129 - accuracy: 0.5469WARNING:tensorflow:Callbacks method `on_train_batch_end` is slow compared to the batch time (batch time: 0.0327s vs `on_train_batch_end` time: 0.3675s). Check your callbacks.\n",
            "10/10 [==============================] - ETA: 0s - loss: 0.7822 - accuracy: 0.5686INFO:tensorflow:Assets written to: models/RNN-Final-01.model/assets\n",
            "10/10 [==============================] - 19s 2s/step - loss: 0.7822 - accuracy: 0.5686 - val_loss: 0.6871 - val_accuracy: 0.5000\n",
            "Epoch 2/10\n",
            " 9/10 [==========================>...] - ETA: 0s - loss: 0.6623 - accuracy: 0.6649INFO:tensorflow:Assets written to: models/RNN-Final-02.model/assets\n",
            "10/10 [==============================] - 17s 2s/step - loss: 0.6606 - accuracy: 0.6706 - val_loss: 0.6867 - val_accuracy: 0.5000\n",
            "Epoch 3/10\n",
            " 9/10 [==========================>...] - ETA: 0s - loss: 0.6218 - accuracy: 0.6892INFO:tensorflow:Assets written to: models/RNN-Final-03.model/assets\n",
            "10/10 [==============================] - 17s 2s/step - loss: 0.6262 - accuracy: 0.6873 - val_loss: 0.6859 - val_accuracy: 0.5500\n",
            "Epoch 4/10\n",
            " 9/10 [==========================>...] - ETA: 0s - loss: 0.5017 - accuracy: 0.7413INFO:tensorflow:Assets written to: models/RNN-Final-04.model/assets\n",
            "10/10 [==============================] - 17s 2s/step - loss: 0.5054 - accuracy: 0.7408 - val_loss: 0.6843 - val_accuracy: 0.5556\n",
            "Epoch 5/10\n",
            " 9/10 [==========================>...] - ETA: 0s - loss: 0.5158 - accuracy: 0.7448INFO:tensorflow:Assets written to: models/RNN-Final-05.model/assets\n",
            "10/10 [==============================] - 17s 2s/step - loss: 0.5153 - accuracy: 0.7475 - val_loss: 0.7060 - val_accuracy: 0.5667\n",
            "Epoch 6/10\n",
            " 9/10 [==========================>...] - ETA: 0s - loss: 0.5062 - accuracy: 0.7448INFO:tensorflow:Assets written to: models/RNN-Final-06.model/assets\n",
            "10/10 [==============================] - 15s 2s/step - loss: 0.5060 - accuracy: 0.7425 - val_loss: 0.7400 - val_accuracy: 0.5833\n",
            "Epoch 7/10\n",
            " 9/10 [==========================>...] - ETA: 0s - loss: 0.4849 - accuracy: 0.7639INFO:tensorflow:Assets written to: models/RNN-Final-07.model/assets\n",
            "10/10 [==============================] - 19s 2s/step - loss: 0.4821 - accuracy: 0.7659 - val_loss: 0.7759 - val_accuracy: 0.5556\n",
            "4-LSTM_3-Dense_64-Unit\n",
            "Epoch 1/10\n",
            " 2/10 [=====>........................] - ETA: 1s - loss: 0.8235 - accuracy: 0.5469WARNING:tensorflow:Callbacks method `on_train_batch_end` is slow compared to the batch time (batch time: 0.0371s vs `on_train_batch_end` time: 0.4483s). Check your callbacks.\n",
            " 9/10 [==========================>...] - ETA: 0s - loss: 0.8416 - accuracy: 0.5139INFO:tensorflow:Assets written to: models/RNN-Final-01.model/assets\n",
            "10/10 [==============================] - 20s 2s/step - loss: 0.8394 - accuracy: 0.5184 - val_loss: 0.6930 - val_accuracy: 0.5000\n",
            "Epoch 2/10\n",
            " 8/10 [=======================>......] - ETA: 0s - loss: 0.7739 - accuracy: 0.5391INFO:tensorflow:Assets written to: models/RNN-Final-02.model/assets\n",
            "10/10 [==============================] - 18s 2s/step - loss: 0.7762 - accuracy: 0.5351 - val_loss: 0.6936 - val_accuracy: 0.5000\n",
            "Epoch 3/10\n",
            " 9/10 [==========================>...] - ETA: 0s - loss: 0.7154 - accuracy: 0.5556INFO:tensorflow:Assets written to: models/RNN-Final-03.model/assets\n",
            "10/10 [==============================] - 17s 2s/step - loss: 0.7168 - accuracy: 0.5569 - val_loss: 0.6940 - val_accuracy: 0.5000\n",
            "Epoch 4/10\n",
            " 9/10 [==========================>...] - ETA: 0s - loss: 0.7116 - accuracy: 0.5938INFO:tensorflow:Assets written to: models/RNN-Final-04.model/assets\n",
            "10/10 [==============================] - 17s 2s/step - loss: 0.7129 - accuracy: 0.5936 - val_loss: 0.6963 - val_accuracy: 0.5000\n",
            "4-LSTM_3-Dense_128-Unit\n",
            "Epoch 1/10\n",
            " 2/10 [=====>........................] - ETA: 2s - loss: 0.9340 - accuracy: 0.4844WARNING:tensorflow:Callbacks method `on_train_batch_end` is slow compared to the batch time (batch time: 0.0346s vs `on_train_batch_end` time: 0.6076s). Check your callbacks.\n",
            "10/10 [==============================] - ETA: 0s - loss: 0.8487 - accuracy: 0.5284INFO:tensorflow:Assets written to: models/RNN-Final-01.model/assets\n",
            "10/10 [==============================] - 20s 2s/step - loss: 0.8487 - accuracy: 0.5284 - val_loss: 0.6937 - val_accuracy: 0.5000\n",
            "Epoch 2/10\n",
            " 9/10 [==========================>...] - ETA: 0s - loss: 0.7642 - accuracy: 0.5799INFO:tensorflow:Assets written to: models/RNN-Final-02.model/assets\n",
            "10/10 [==============================] - 16s 2s/step - loss: 0.7591 - accuracy: 0.5870 - val_loss: 0.6915 - val_accuracy: 0.5000\n",
            "Epoch 3/10\n",
            " 8/10 [=======================>......] - ETA: 0s - loss: 0.6974 - accuracy: 0.6133INFO:tensorflow:Assets written to: models/RNN-Final-03.model/assets\n",
            "10/10 [==============================] - 18s 2s/step - loss: 0.6939 - accuracy: 0.6154 - val_loss: 0.6900 - val_accuracy: 0.5222\n",
            "Epoch 4/10\n",
            " 8/10 [=======================>......] - ETA: 0s - loss: 0.6232 - accuracy: 0.6641INFO:tensorflow:Assets written to: models/RNN-Final-04.model/assets\n",
            "10/10 [==============================] - 17s 2s/step - loss: 0.6439 - accuracy: 0.6605 - val_loss: 0.6933 - val_accuracy: 0.5000\n",
            "Epoch 5/10\n",
            " 9/10 [==========================>...] - ETA: 0s - loss: 0.6119 - accuracy: 0.6736INFO:tensorflow:Assets written to: models/RNN-Final-05.model/assets\n",
            "10/10 [==============================] - 17s 2s/step - loss: 0.6140 - accuracy: 0.6739 - val_loss: 0.6958 - val_accuracy: 0.5000\n",
            "Epoch 6/10\n",
            " 8/10 [=======================>......] - ETA: 0s - loss: 0.6187 - accuracy: 0.6797INFO:tensorflow:Assets written to: models/RNN-Final-06.model/assets\n",
            "10/10 [==============================] - 17s 2s/step - loss: 0.6045 - accuracy: 0.6890 - val_loss: 0.7045 - val_accuracy: 0.5000\n",
            "4-LSTM_3-Dense_256-Unit\n",
            "Epoch 1/10\n",
            " 2/10 [=====>........................] - ETA: 2s - loss: 0.8391 - accuracy: 0.5469WARNING:tensorflow:Callbacks method `on_train_batch_end` is slow compared to the batch time (batch time: 0.0483s vs `on_train_batch_end` time: 0.4694s). Check your callbacks.\n",
            "10/10 [==============================] - ETA: 0s - loss: 0.7976 - accuracy: 0.5719INFO:tensorflow:Assets written to: models/RNN-Final-01.model/assets\n",
            "10/10 [==============================] - 20s 2s/step - loss: 0.7976 - accuracy: 0.5719 - val_loss: 0.6895 - val_accuracy: 0.6278\n",
            "Epoch 2/10\n",
            " 9/10 [==========================>...] - ETA: 0s - loss: 0.6849 - accuracy: 0.6424INFO:tensorflow:Assets written to: models/RNN-Final-02.model/assets\n",
            "10/10 [==============================] - 18s 2s/step - loss: 0.6868 - accuracy: 0.6388 - val_loss: 0.6885 - val_accuracy: 0.5056\n",
            "Epoch 3/10\n",
            " 9/10 [==========================>...] - ETA: 0s - loss: 0.6630 - accuracy: 0.6493INFO:tensorflow:Assets written to: models/RNN-Final-03.model/assets\n",
            "10/10 [==============================] - 16s 2s/step - loss: 0.6611 - accuracy: 0.6505 - val_loss: 0.6854 - val_accuracy: 0.5333\n",
            "Epoch 4/10\n",
            " 9/10 [==========================>...] - ETA: 0s - loss: 0.5898 - accuracy: 0.7031INFO:tensorflow:Assets written to: models/RNN-Final-04.model/assets\n",
            "10/10 [==============================] - 18s 2s/step - loss: 0.5870 - accuracy: 0.7023 - val_loss: 0.7100 - val_accuracy: 0.5056\n",
            "Epoch 5/10\n",
            " 9/10 [==========================>...] - ETA: 0s - loss: 0.5197 - accuracy: 0.7569INFO:tensorflow:Assets written to: models/RNN-Final-05.model/assets\n",
            "10/10 [==============================] - 18s 2s/step - loss: 0.5309 - accuracy: 0.7525 - val_loss: 0.7551 - val_accuracy: 0.5111\n",
            "Epoch 6/10\n",
            " 9/10 [==========================>...] - ETA: 0s - loss: 0.5328 - accuracy: 0.7535INFO:tensorflow:Assets written to: models/RNN-Final-06.model/assets\n",
            "10/10 [==============================] - 18s 2s/step - loss: 0.5267 - accuracy: 0.7508 - val_loss: 0.8014 - val_accuracy: 0.5444\n"
          ],
          "name": "stdout"
        }
      ]
    },
    {
      "cell_type": "markdown",
      "metadata": {
        "id": "JVKbBa2_0XVk",
        "colab_type": "text"
      },
      "source": [
        "After viewing with tensorboard by typing tensorboard --logdir=logs/ in the command line, I determined the best model is the original model we used 3-LSTM, 3-Dense, at 256 units per each layer after 2 epochs."
      ]
    },
    {
      "cell_type": "code",
      "metadata": {
        "id": "HtWEqWvyZ3kx",
        "colab_type": "code",
        "colab": {
          "base_uri": "https://localhost:8080/",
          "height": 615
        },
        "outputId": "a839d54f-9359-44ce-f0a3-6f3eec02a358"
      },
      "source": [
        "final_model = Sequential()\n",
        "final_model.add(LSTM(256, input_shape=(X_train.shape[1:]), return_sequences=True))\n",
        "final_model.add(Dropout(0.2))\n",
        "final_model.add(BatchNormalization())\n",
        "\n",
        "final_model.add(LSTM(256, input_shape=(X_train.shape[1:]), return_sequences=True))\n",
        "final_model.add(Dropout(0.2))\n",
        "final_model.add(BatchNormalization())\n",
        "\n",
        "final_model.add(LSTM(256, input_shape=(X_train.shape[1:])))\n",
        "final_model.add(Dropout(0.2))\n",
        "final_model.add(BatchNormalization())\n",
        "\n",
        "final_model.add(Dense(256, activation='relu'))\n",
        "final_model.add(Dropout(0.2))\n",
        "final_model.add(BatchNormalization())\n",
        "\n",
        "final_model.add(Dense(256, activation='relu'))\n",
        "final_model.add(Dropout(0.2))\n",
        "final_model.add(BatchNormalization())\n",
        "\n",
        "final_model.add(Dense(256, activation='relu'))\n",
        "final_model.add(Dropout(0.2))\n",
        "final_model.add(BatchNormalization())\n",
        "\n",
        "final_model.add(Dense(1, activation='sigmoid'))\n",
        "\n",
        "final_model.compile(optimizer=tf.keras.optimizers.Adam(lr=0.001, decay=1e-6),\n",
        "                    loss='binary_crossentropy', metrics=['accuracy'])\n",
        "\n",
        "early_stopping = EarlyStopping(monitor='val_loss', patience=3)\n",
        "filepath = 'RNN-Final-{epoch:02d}'\n",
        "checkpoint = ModelCheckpoint('models/{}.model'.format(filepath, monitor='val_acc',\n",
        "                                                            verbose=1, save_best_only=True, mode='max'))\n",
        "\n",
        "final_model.fit(X_train, y_train, epochs=EPOCHS, batch_size=BATCH_SIZE,\n",
        "                validation_data=(X_test, y_test), callbacks=[early_stopping, checkpoint])"
      ],
      "execution_count": null,
      "outputs": [
        {
          "output_type": "stream",
          "text": [
            "Epoch 1/10\n",
            " 9/10 [==========================>...] - ETA: 0s - loss: 0.8290 - accuracy: 0.5191WARNING:tensorflow:From /usr/local/lib/python3.6/dist-packages/tensorflow/python/training/tracking/tracking.py:111: Model.state_updates (from tensorflow.python.keras.engine.training) is deprecated and will be removed in a future version.\n",
            "Instructions for updating:\n",
            "This property should not be used in TensorFlow 2.0, as updates are applied automatically.\n",
            "WARNING:tensorflow:From /usr/local/lib/python3.6/dist-packages/tensorflow/python/training/tracking/tracking.py:111: Layer.updates (from tensorflow.python.keras.engine.base_layer) is deprecated and will be removed in a future version.\n",
            "Instructions for updating:\n",
            "This property should not be used in TensorFlow 2.0, as updates are applied automatically.\n",
            "INFO:tensorflow:Assets written to: models/RNN-Final-01.model/assets\n",
            "10/10 [==============================] - 15s 1s/step - loss: 0.8301 - accuracy: 0.5134 - val_loss: 0.6931 - val_accuracy: 0.5000\n",
            "Epoch 2/10\n",
            " 9/10 [==========================>...] - ETA: 0s - loss: 0.6909 - accuracy: 0.6441INFO:tensorflow:Assets written to: models/RNN-Final-02.model/assets\n",
            "10/10 [==============================] - 14s 1s/step - loss: 0.6868 - accuracy: 0.6505 - val_loss: 0.6890 - val_accuracy: 0.5000\n",
            "Epoch 3/10\n",
            " 9/10 [==========================>...] - ETA: 0s - loss: 0.6644 - accuracy: 0.6510INFO:tensorflow:Assets written to: models/RNN-Final-03.model/assets\n",
            "10/10 [==============================] - 14s 1s/step - loss: 0.6734 - accuracy: 0.6472 - val_loss: 0.6948 - val_accuracy: 0.5000\n",
            "Epoch 4/10\n",
            " 9/10 [==========================>...] - ETA: 0s - loss: 0.6195 - accuracy: 0.6510INFO:tensorflow:Assets written to: models/RNN-Final-04.model/assets\n",
            "10/10 [==============================] - 14s 1s/step - loss: 0.6239 - accuracy: 0.6522 - val_loss: 0.6786 - val_accuracy: 0.5833\n",
            "Epoch 5/10\n",
            " 9/10 [==========================>...] - ETA: 0s - loss: 0.5591 - accuracy: 0.7205INFO:tensorflow:Assets written to: models/RNN-Final-05.model/assets\n",
            "10/10 [==============================] - 14s 1s/step - loss: 0.5562 - accuracy: 0.7191 - val_loss: 0.6841 - val_accuracy: 0.5389\n",
            "Epoch 6/10\n",
            "10/10 [==============================] - ETA: 0s - loss: 0.5287 - accuracy: 0.7324INFO:tensorflow:Assets written to: models/RNN-Final-06.model/assets\n",
            "10/10 [==============================] - 14s 1s/step - loss: 0.5287 - accuracy: 0.7324 - val_loss: 0.6445 - val_accuracy: 0.6444\n",
            "Epoch 7/10\n",
            " 9/10 [==========================>...] - ETA: 0s - loss: 0.4804 - accuracy: 0.7483INFO:tensorflow:Assets written to: models/RNN-Final-07.model/assets\n",
            "10/10 [==============================] - 14s 1s/step - loss: 0.4873 - accuracy: 0.7425 - val_loss: 0.6663 - val_accuracy: 0.5833\n",
            "Epoch 8/10\n",
            "10/10 [==============================] - ETA: 0s - loss: 0.4898 - accuracy: 0.7742INFO:tensorflow:Assets written to: models/RNN-Final-08.model/assets\n",
            "10/10 [==============================] - 14s 1s/step - loss: 0.4898 - accuracy: 0.7742 - val_loss: 0.6723 - val_accuracy: 0.5722\n",
            "Epoch 9/10\n",
            " 9/10 [==========================>...] - ETA: 0s - loss: 0.4146 - accuracy: 0.8038INFO:tensorflow:Assets written to: models/RNN-Final-09.model/assets\n",
            "10/10 [==============================] - 14s 1s/step - loss: 0.4320 - accuracy: 0.7977 - val_loss: 0.6603 - val_accuracy: 0.6167\n"
          ],
          "name": "stdout"
        },
        {
          "output_type": "execute_result",
          "data": {
            "text/plain": [
              "<tensorflow.python.keras.callbacks.History at 0x7f0a100fed68>"
            ]
          },
          "metadata": {
            "tags": []
          },
          "execution_count": 8
        }
      ]
    },
    {
      "cell_type": "code",
      "metadata": {
        "id": "nCviM0yl7ttN",
        "colab_type": "code",
        "colab": {
          "base_uri": "https://localhost:8080/",
          "height": 51
        },
        "outputId": "37eaa3e6-21f1-4587-c496-32027ac63114"
      },
      "source": [
        "final_model.evaluate(X_test, y_test)"
      ],
      "execution_count": null,
      "outputs": [
        {
          "output_type": "stream",
          "text": [
            "6/6 [==============================] - 0s 10ms/step - loss: 0.6603 - accuracy: 0.6167\n"
          ],
          "name": "stdout"
        },
        {
          "output_type": "execute_result",
          "data": {
            "text/plain": [
              "[0.6603277921676636, 0.6166666746139526]"
            ]
          },
          "metadata": {
            "tags": []
          },
          "execution_count": 9
        }
      ]
    },
    {
      "cell_type": "code",
      "metadata": {
        "id": "_yNFbKcU-ZfP",
        "colab_type": "code",
        "colab": {}
      },
      "source": [
        "final_model.save('ADA_Crypto_Predictor_Model.h5') "
      ],
      "execution_count": null,
      "outputs": []
    }
  ]
}