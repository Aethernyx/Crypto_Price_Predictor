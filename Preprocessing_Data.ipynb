{
 "cells": [
  {
   "cell_type": "code",
   "execution_count": 1,
   "metadata": {},
   "outputs": [],
   "source": [
    "import pandas as pd\n",
    "import numpy as np\n",
    "import os\n",
    "import matplotlib.pyplot as plt\n",
    "import seaborn as sns\n",
    "from sklearn import preprocessing\n",
    "from collections import deque\n",
    "import random\n",
    "import warnings\n",
    "warnings.filterwarnings('ignore')"
   ]
  },
  {
   "cell_type": "code",
   "execution_count": 2,
   "metadata": {},
   "outputs": [],
   "source": [
    "SEQ_LENGTH = 60\n",
    "PRED_PERIOD = 7\n",
    "COIN_TO_PRED = 'ADA'"
   ]
  },
  {
   "cell_type": "code",
   "execution_count": 3,
   "metadata": {},
   "outputs": [],
   "source": [
    "abs_path = '/Users/alex/desktop/python_work/python_projects/Crypto_Price_Predictor'\n",
    "data_path = os.path.join(abs_path, 'Data')\n",
    "os.chdir(data_path)\n",
    "\n",
    "main_df = pd.DataFrame()\n",
    "\n",
    "for file in os.listdir():\n",
    "    df = pd.read_csv(file, date_parser=['snapped_at'], names=['date', f'{file[:-4]}_price',\n",
    "                                                             f'{file[:-4]}_market_cap',\n",
    "                                                             f'{file[:-4]}_total_volume'], )\n",
    "    df = df[1:]\n",
    "    df.set_index('date', inplace=True)\n",
    "    df = df[[f'{file[:-4]}_price', f'{file[:-4]}_total_volume']]\n",
    "    #df = df.iloc[-CLOSING_DAYS_LEN:]\n",
    "    \n",
    "    \n",
    "    if len(main_df) == 0:\n",
    "        main_df = df\n",
    "    else:\n",
    "        main_df = main_df.join(df)\n",
    "\n",
    "os.chdir('..')"
   ]
  },
  {
   "cell_type": "code",
   "execution_count": 4,
   "metadata": {
    "scrolled": true
   },
   "outputs": [
    {
     "data": {
      "text/html": [
       "<div>\n",
       "<style scoped>\n",
       "    .dataframe tbody tr th:only-of-type {\n",
       "        vertical-align: middle;\n",
       "    }\n",
       "\n",
       "    .dataframe tbody tr th {\n",
       "        vertical-align: top;\n",
       "    }\n",
       "\n",
       "    .dataframe thead th {\n",
       "        text-align: right;\n",
       "    }\n",
       "</style>\n",
       "<table border=\"1\" class=\"dataframe\">\n",
       "  <thead>\n",
       "    <tr style=\"text-align: right;\">\n",
       "      <th></th>\n",
       "      <th>BTC_price</th>\n",
       "      <th>BTC_total_volume</th>\n",
       "      <th>ETH_price</th>\n",
       "      <th>ETH_total_volume</th>\n",
       "      <th>ADA_price</th>\n",
       "      <th>ADA_total_volume</th>\n",
       "    </tr>\n",
       "    <tr>\n",
       "      <th>date</th>\n",
       "      <th></th>\n",
       "      <th></th>\n",
       "      <th></th>\n",
       "      <th></th>\n",
       "      <th></th>\n",
       "      <th></th>\n",
       "    </tr>\n",
       "  </thead>\n",
       "  <tbody>\n",
       "    <tr>\n",
       "      <th>2020-08-27 00:00:00 UTC</th>\n",
       "      <td>11465.002564032086</td>\n",
       "      <td>20869928785.800804</td>\n",
       "      <td>385.75249987492117</td>\n",
       "      <td>10454041361.377256</td>\n",
       "      <td>0.1144606140436145</td>\n",
       "      <td>448522382.0338251</td>\n",
       "    </tr>\n",
       "    <tr>\n",
       "      <th>2020-08-28 00:00:00 UTC</th>\n",
       "      <td>11300.398363810944</td>\n",
       "      <td>21595917446.043972</td>\n",
       "      <td>381.8376513210842</td>\n",
       "      <td>10466849103.532475</td>\n",
       "      <td>0.10683596306265304</td>\n",
       "      <td>445998081.72096795</td>\n",
       "    </tr>\n",
       "    <tr>\n",
       "      <th>2020-08-29 00:00:00 UTC</th>\n",
       "      <td>11519.118388160729</td>\n",
       "      <td>19271253870.82992</td>\n",
       "      <td>395.1382132386204</td>\n",
       "      <td>10196208352.394411</td>\n",
       "      <td>0.10921266508420925</td>\n",
       "      <td>372495384.20571584</td>\n",
       "    </tr>\n",
       "    <tr>\n",
       "      <th>2020-08-30 00:00:00 UTC</th>\n",
       "      <td>11481.481823317012</td>\n",
       "      <td>18415439613.538937</td>\n",
       "      <td>399.374543834064</td>\n",
       "      <td>9631959320.390598</td>\n",
       "      <td>0.1166042236595269</td>\n",
       "      <td>361328837.3964716</td>\n",
       "    </tr>\n",
       "    <tr>\n",
       "      <th>2020-08-31 00:00:00 UTC</th>\n",
       "      <td>11701.004008657852</td>\n",
       "      <td>19909556666.601448</td>\n",
       "      <td>428.2956791635218</td>\n",
       "      <td>12945668314.960146</td>\n",
       "      <td>0.11720776600238383</td>\n",
       "      <td>380535420.5953276</td>\n",
       "    </tr>\n",
       "  </tbody>\n",
       "</table>\n",
       "</div>"
      ],
      "text/plain": [
       "                                  BTC_price    BTC_total_volume  \\\n",
       "date                                                              \n",
       "2020-08-27 00:00:00 UTC  11465.002564032086  20869928785.800804   \n",
       "2020-08-28 00:00:00 UTC  11300.398363810944  21595917446.043972   \n",
       "2020-08-29 00:00:00 UTC  11519.118388160729   19271253870.82992   \n",
       "2020-08-30 00:00:00 UTC  11481.481823317012  18415439613.538937   \n",
       "2020-08-31 00:00:00 UTC  11701.004008657852  19909556666.601448   \n",
       "\n",
       "                                  ETH_price    ETH_total_volume  \\\n",
       "date                                                              \n",
       "2020-08-27 00:00:00 UTC  385.75249987492117  10454041361.377256   \n",
       "2020-08-28 00:00:00 UTC   381.8376513210842  10466849103.532475   \n",
       "2020-08-29 00:00:00 UTC   395.1382132386204  10196208352.394411   \n",
       "2020-08-30 00:00:00 UTC    399.374543834064   9631959320.390598   \n",
       "2020-08-31 00:00:00 UTC   428.2956791635218  12945668314.960146   \n",
       "\n",
       "                                   ADA_price    ADA_total_volume  \n",
       "date                                                              \n",
       "2020-08-27 00:00:00 UTC   0.1144606140436145   448522382.0338251  \n",
       "2020-08-28 00:00:00 UTC  0.10683596306265304  445998081.72096795  \n",
       "2020-08-29 00:00:00 UTC  0.10921266508420925  372495384.20571584  \n",
       "2020-08-30 00:00:00 UTC   0.1166042236595269   361328837.3964716  \n",
       "2020-08-31 00:00:00 UTC  0.11720776600238383   380535420.5953276  "
      ]
     },
     "execution_count": 4,
     "metadata": {},
     "output_type": "execute_result"
    }
   ],
   "source": [
    "main_df.tail()"
   ]
  },
  {
   "cell_type": "code",
   "execution_count": 5,
   "metadata": {},
   "outputs": [],
   "source": [
    "def classify(current, future):\n",
    "    if float(future) > float(current):\n",
    "        return 1\n",
    "    else:\n",
    "        return 0"
   ]
  },
  {
   "cell_type": "code",
   "execution_count": 6,
   "metadata": {},
   "outputs": [],
   "source": [
    "main_df['future'] = main_df[f'{COIN_TO_PRED}_price'].shift(-PRED_PERIOD)\n",
    "\n",
    "main_df['target'] = list(map(classify, main_df[f'{COIN_TO_PRED}_price'], main_df['future']))"
   ]
  },
  {
   "cell_type": "code",
   "execution_count": 7,
   "metadata": {},
   "outputs": [],
   "source": [
    "def data_split(dataframe, test_size):\n",
    "    \n",
    "    test_index_start = int(len(dataframe) * test_size)\n",
    "    train = dataframe.iloc[:-test_index_start]\n",
    "    test = dataframe.iloc[-test_index_start:]\n",
    "    \n",
    "    return train, test"
   ]
  },
  {
   "cell_type": "code",
   "execution_count": 8,
   "metadata": {},
   "outputs": [],
   "source": [
    "train, test = data_split(main_df, test_size=.1)"
   ]
  },
  {
   "cell_type": "code",
   "execution_count": 9,
   "metadata": {},
   "outputs": [],
   "source": [
    "def preprocess(df):\n",
    "    df.drop('future', axis=1, inplace=True)\n",
    "    for col in df.columns:\n",
    "        if col != 'target':\n",
    "            df[col] = df[col].apply(lambda x: pd.to_numeric(x))\n",
    "            df[col] = df[col].pct_change()\n",
    "            df.dropna(inplace=True)\n",
    "            df[col] = preprocessing.scale(df[col].values)\n",
    "            \n",
    "    df.dropna(inplace=True)\n",
    "    \n",
    "    seq_data = []\n",
    "    prev_days = deque(maxlen=SEQ_LENGTH)\n",
    "    \n",
    "    for i in df.values:\n",
    "        prev_days.append([n for n in i[:-1]])\n",
    "        if len(prev_days) == SEQ_LENGTH:\n",
    "            seq_data.append([np.array(prev_days), i[-1]])\n",
    "            \n",
    "    random.shuffle(seq_data)\n",
    "    \n",
    "    buys = []\n",
    "    sells = []\n",
    "    \n",
    "    for seq, target in seq_data:\n",
    "        if target == 0:\n",
    "            sells.append([seq, target])\n",
    "        elif target == 1:\n",
    "            buys.append([seq, target])\n",
    "            \n",
    "    random.shuffle(buys)\n",
    "    random.shuffle(sells)\n",
    "    \n",
    "    lower = min(len(buys), len(sells))\n",
    "    \n",
    "    buys = buys[:lower]\n",
    "    sells = sells[:lower]\n",
    "    \n",
    "    seq_data = buys+sells\n",
    "    random.shuffle(seq_data)\n",
    "    \n",
    "    X = []\n",
    "    y = []\n",
    "    \n",
    "    for seq, target in seq_data:\n",
    "        X.append(seq)\n",
    "        y.append(target)\n",
    "    \n",
    "    return np.array(X), y"
   ]
  },
  {
   "cell_type": "code",
   "execution_count": 10,
   "metadata": {
    "scrolled": false
   },
   "outputs": [],
   "source": [
    "X_train, y_train = preprocess(train)\n",
    "X_test, y_test = preprocess(test)"
   ]
  },
  {
   "cell_type": "code",
   "execution_count": 11,
   "metadata": {},
   "outputs": [
    {
     "name": "stdout",
     "output_type": "stream",
     "text": [
      "Training Data: 598,  Test Data: 180\n",
      "Do Not Buy: 299,  Buy: 299\n",
      "Test Do Not Buy: 90,  Test Buy: 90\n"
     ]
    }
   ],
   "source": [
    "print(f'Training Data: {len(X_train)},  Test Data: {len(X_test)}')\n",
    "print(f'Do Not Buy: {y_train.count(0)},  Buy: {y_train.count(1)}')\n",
    "print(f'Test Do Not Buy: {y_test.count(0)},  Test Buy: {y_test.count(1)}')"
   ]
  },
  {
   "cell_type": "code",
   "execution_count": 12,
   "metadata": {},
   "outputs": [],
   "source": [
    "import pickle\n",
    "\n",
    "def pickle_data(data, filename):\n",
    "    with open(filename, 'wb') as f:\n",
    "        pickle.dump(data, f)\n",
    "    \n",
    "pickle_data(X_train, 'X_train.pickle')\n",
    "pickle_data(X_test, 'X_test.pickle')\n",
    "pickle_data(y_train, 'y_train.pickle')\n",
    "pickle_data(y_test, 'y_test.pickle')"
   ]
  }
 ],
 "metadata": {
  "kernelspec": {
   "display_name": "Python 3",
   "language": "python",
   "name": "python3"
  },
  "language_info": {
   "codemirror_mode": {
    "name": "ipython",
    "version": 3
   },
   "file_extension": ".py",
   "mimetype": "text/x-python",
   "name": "python",
   "nbconvert_exporter": "python",
   "pygments_lexer": "ipython3",
   "version": "3.8.0"
  }
 },
 "nbformat": 4,
 "nbformat_minor": 2
}
